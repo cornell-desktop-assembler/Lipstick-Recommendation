{
 "cells": [
  {
   "cell_type": "code",
   "execution_count": 1,
   "metadata": {},
   "outputs": [],
   "source": [
    "import numpy as np\n",
    "import pandas as pd"
   ]
  },
  {
   "cell_type": "code",
   "execution_count": 2,
   "metadata": {},
   "outputs": [],
   "source": [
    "import nltk"
   ]
  },
  {
   "cell_type": "code",
   "execution_count": 3,
   "metadata": {},
   "outputs": [],
   "source": [
    "df = pd.read_csv(\"all sephora.csv\", encoding=\"utf-8\", index_col=0)"
   ]
  },
  {
   "cell_type": "code",
   "execution_count": 4,
   "metadata": {},
   "outputs": [],
   "source": [
    "import json"
   ]
  },
  {
   "cell_type": "code",
   "execution_count": 9,
   "metadata": {},
   "outputs": [
    {
     "data": {
      "text/plain": [
       "Index(['AuthorId', 'Helpfulness', 'Id', 'LastModificationTime', 'ProductId',\n",
       "       'Rating', 'RatingRange', 'ReviewText', 'UserNickname', 'age',\n",
       "       'eyeColor', 'hairColor', 'skinTone', 'skinType'],\n",
       "      dtype='object')"
      ]
     },
     "execution_count": 9,
     "metadata": {},
     "output_type": "execute_result"
    }
   ],
   "source": [
    "df.columns"
   ]
  },
  {
   "cell_type": "code",
   "execution_count": 11,
   "metadata": {},
   "outputs": [
    {
     "data": {
      "text/plain": [
       "0         2144608\n",
       "1         2144616\n",
       "2         2144616\n",
       "3         2144616\n",
       "4         2144608\n",
       "5         2144616\n",
       "6         2144608\n",
       "7         2144608\n",
       "8         2144608\n",
       "9         2144608\n",
       "10        2144616\n",
       "11        2144616\n",
       "12        2144608\n",
       "13        2144608\n",
       "14        2144608\n",
       "15        2144608\n",
       "16        2144616\n",
       "17        2144616\n",
       "18        2144608\n",
       "19        2144616\n",
       "20        2144616\n",
       "21        2144608\n",
       "22        2144608\n",
       "23        2144608\n",
       "24        2144608\n",
       "25        2144616\n",
       "26        2144608\n",
       "27        2144616\n",
       "28        2144616\n",
       "29        2144608\n",
       "           ...   \n",
       "157426      P8426\n",
       "157427      P8426\n",
       "157428      P8426\n",
       "157429      P8426\n",
       "157430      P8426\n",
       "157431      P8426\n",
       "157432      P8426\n",
       "157433      P8426\n",
       "157434      P8426\n",
       "157435      P8426\n",
       "157436      P8426\n",
       "157437      P8426\n",
       "157438      P8426\n",
       "157439      P8426\n",
       "157440      P8426\n",
       "157441      P8426\n",
       "157442      P8426\n",
       "157443      P8426\n",
       "157444      P8426\n",
       "157445      P8426\n",
       "157446      P8426\n",
       "157447      P8426\n",
       "157448      P8426\n",
       "157449      P8426\n",
       "157450      P8426\n",
       "157451      P8426\n",
       "157452      P8426\n",
       "157453      P8426\n",
       "157454      P8426\n",
       "157455      P8426\n",
       "Name: ProductId, Length: 157456, dtype: object"
      ]
     },
     "execution_count": 11,
     "metadata": {},
     "output_type": "execute_result"
    }
   ],
   "source": [
    "df.ProductId"
   ]
  },
  {
   "cell_type": "code",
   "execution_count": 5,
   "metadata": {},
   "outputs": [
    {
     "name": "stdout",
     "output_type": "stream",
     "text": [
      "eyeColor {nan, 'brown', 'gray', 'green', 'blue', 'hazel'}\n",
      "hairColor {nan, 'blonde', 'gray', 'red', 'brunette', 'black', 'auburn'}\n",
      "skinTone {nan, 'light', 'tan', 'porcelain', 'deep', 'fair', 'dark', 'medium', 'ebony', 'olive'}\n",
      "skinType {nan, 'normal', 'dry', 'oily', 'combination'}\n"
     ]
    }
   ],
   "source": [
    "for col in [\"eyeColor\", \"hairColor\", \"skinTone\", \"skinType\"]:\n",
    "    print(col, set(df[col]))\n"
   ]
  },
  {
   "cell_type": "code",
   "execution_count": 6,
   "metadata": {},
   "outputs": [
    {
     "name": "stdout",
     "output_type": "stream",
     "text": [
      "             AuthorId : 100.00% [157456/157456]\n",
      "          Helpfulness :  29.00% [ 45662/157456]\n",
      "                   Id : 100.00% [157456/157456]\n",
      " LastModificationTime : 100.00% [157456/157456]\n",
      "            ProductId : 100.00% [157456/157456]\n",
      "               Rating : 100.00% [157456/157456]\n",
      "          RatingRange : 100.00% [157456/157456]\n",
      "           ReviewText : 100.00% [157456/157456]\n",
      "         UserNickname :  99.20% [156193/157456]\n",
      "                  age :  38.82% [ 61130/157456]\n",
      "             eyeColor :  68.55% [107934/157456]\n",
      "            hairColor :  37.27% [ 58677/157456]\n",
      "             skinTone :  69.67% [109700/157456]\n",
      "             skinType :  37.92% [ 59703/157456]\n"
     ]
    }
   ],
   "source": [
    "for col in df.columns:\n",
    "    print(f\"{col:>21s} : {sum(~df[col].isnull())/len(df)*100:>6.2f}% [{sum(~df[col].isnull()):>6d}/{len(df)}]\")"
   ]
  },
  {
   "cell_type": "code",
   "execution_count": 7,
   "metadata": {},
   "outputs": [],
   "source": [
    "from nltk.tokenize import TreebankWordTokenizer"
   ]
  },
  {
   "cell_type": "code",
   "execution_count": 8,
   "metadata": {},
   "outputs": [],
   "source": [
    "treebank_tokenizer = TreebankWordTokenizer()"
   ]
  },
  {
   "cell_type": "code",
   "execution_count": 9,
   "metadata": {},
   "outputs": [
    {
     "data": {
      "text/plain": [
       "['a', 'more', 'general-purpose', 'tokenizer', '!']"
      ]
     },
     "execution_count": 9,
     "metadata": {},
     "output_type": "execute_result"
    }
   ],
   "source": [
    "treebank_tokenizer.tokenize(\"a more general-purpose tokenizer!\")"
   ]
  },
  {
   "cell_type": "markdown",
   "metadata": {},
   "source": [
    "tokenization"
   ]
  },
  {
   "cell_type": "code",
   "execution_count": 43,
   "metadata": {},
   "outputs": [],
   "source": [
    "from nltk.tokenize import RegexpTokenizer\n",
    "\n",
    "tokenizer = RegexpTokenizer(r'\\w+')"
   ]
  },
  {
   "cell_type": "code",
   "execution_count": 44,
   "metadata": {},
   "outputs": [],
   "source": [
    "# id2tokenized = {\n",
    "#     k : tokenizer.tokenize(text.lower())\n",
    "#     for k, text in df[\"ReviewText\"].iteritems()\n",
    "# }"
   ]
  },
  {
   "cell_type": "code",
   "execution_count": 45,
   "metadata": {},
   "outputs": [],
   "source": [
    "# import pickle\n",
    "# with open(\"id2tokenized.pkl\", \"wb\") as fout:\n",
    "#     pickle.dump(id2tokenized, fout)"
   ]
  },
  {
   "cell_type": "code",
   "execution_count": 6,
   "metadata": {},
   "outputs": [],
   "source": [
    "import pickle\n",
    "with open(\"id2tokenized.pkl\", \"rb\") as fin:\n",
    "    id2tokenized = pickle.load(fin)"
   ]
  },
  {
   "cell_type": "markdown",
   "metadata": {},
   "source": [
    "vocab"
   ]
  },
  {
   "cell_type": "code",
   "execution_count": 47,
   "metadata": {},
   "outputs": [],
   "source": [
    "vocab = set()"
   ]
  },
  {
   "cell_type": "code",
   "execution_count": 48,
   "metadata": {},
   "outputs": [],
   "source": [
    "for v in id2tokenized.values():\n",
    "    vocab.update(v)"
   ]
  },
  {
   "cell_type": "code",
   "execution_count": 50,
   "metadata": {},
   "outputs": [
    {
     "data": {
      "text/plain": [
       "33585"
      ]
     },
     "execution_count": 50,
     "metadata": {},
     "output_type": "execute_result"
    }
   ],
   "source": [
    "len(vocab)"
   ]
  },
  {
   "cell_type": "code",
   "execution_count": 7,
   "metadata": {},
   "outputs": [],
   "source": [
    "# sorted(vocab)"
   ]
  },
  {
   "cell_type": "markdown",
   "metadata": {},
   "source": [
    "---"
   ]
  },
  {
   "cell_type": "code",
   "execution_count": 12,
   "metadata": {},
   "outputs": [
    {
     "data": {
      "text/plain": [
       "AuthorId                                                   orderGen587087\n",
       "Helpfulness                                                             1\n",
       "Id                                                              126316342\n",
       "LastModificationTime                        2019-04-09T03:22:03.000+00:00\n",
       "ProductId                                                           P8426\n",
       "Rating                                                                  5\n",
       "RatingRange                                                             5\n",
       "ReviewText              ️I recently purchased the shades outlaw and l....\n",
       "dtype: object"
      ]
     },
     "execution_count": 12,
     "metadata": {},
     "output_type": "execute_result"
    }
   ],
   "source": [
    "df[\"ReviewText\"].max()"
   ]
  },
  {
   "cell_type": "markdown",
   "metadata": {},
   "source": [
    "word count"
   ]
  },
  {
   "cell_type": "code",
   "execution_count": 8,
   "metadata": {},
   "outputs": [],
   "source": [
    "def word_counter(word):\n",
    "    def helper(text):\n",
    "        nonlocal word\n",
    "        return text.lower().count(word)\n",
    "    return helper"
   ]
  },
  {
   "cell_type": "code",
   "execution_count": null,
   "metadata": {},
   "outputs": [],
   "source": [
    "def rank_by_word(word):\n",
    "    global df\n",
    "    "
   ]
  }
 ],
 "metadata": {
  "kernelspec": {
   "display_name": "Python 3",
   "language": "python",
   "name": "python3"
  },
  "language_info": {
   "codemirror_mode": {
    "name": "ipython",
    "version": 3
   },
   "file_extension": ".py",
   "mimetype": "text/x-python",
   "name": "python",
   "nbconvert_exporter": "python",
   "pygments_lexer": "ipython3",
   "version": "3.6.7"
  }
 },
 "nbformat": 4,
 "nbformat_minor": 2
}
