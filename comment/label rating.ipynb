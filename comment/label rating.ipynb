{
 "cells": [
  {
   "cell_type": "code",
   "execution_count": 1,
   "metadata": {},
   "outputs": [],
   "source": [
    "import numpy as np\n",
    "import pandas as pd"
   ]
  },
  {
   "cell_type": "code",
   "execution_count": 2,
   "metadata": {},
   "outputs": [],
   "source": [
    "df = pd.read_csv(\"all sephora.csv\", encoding=\"utf-8\", index_col=0)"
   ]
  },
  {
   "cell_type": "code",
   "execution_count": 3,
   "metadata": {},
   "outputs": [
    {
     "name": "stdout",
     "output_type": "stream",
     "text": [
      "Index(['AuthorId', 'Helpfulness', 'Id', 'LastModificationTime', 'ProductId',\n",
      "       'Rating', 'RatingRange', 'ReviewText', 'UserNickname', 'age',\n",
      "       'eyeColor', 'hairColor', 'skinTone', 'skinType'],\n",
      "      dtype='object')\n"
     ]
    }
   ],
   "source": [
    "print(df.columns)"
   ]
  },
  {
   "cell_type": "code",
   "execution_count": 4,
   "metadata": {},
   "outputs": [],
   "source": [
    "columns = [\"eyeColor\", \"hairColor\", \"skinTone\", \"skinType\"]"
   ]
  },
  {
   "cell_type": "code",
   "execution_count": 5,
   "metadata": {},
   "outputs": [],
   "source": [
    "skus = set(df[\"ProductId\"])"
   ]
  },
  {
   "cell_type": "code",
   "execution_count": 6,
   "metadata": {},
   "outputs": [],
   "source": [
    "# skus"
   ]
  },
  {
   "cell_type": "code",
   "execution_count": 7,
   "metadata": {},
   "outputs": [
    {
     "name": "stdout",
     "output_type": "stream",
     "text": [
      "{'eyeColor': {nan, 'blue', 'brown', 'gray', 'green', 'hazel'},\n",
      " 'hairColor': {nan, 'blonde', 'red', 'brunette', 'gray', 'black', 'auburn'},\n",
      " 'skinTone': {nan,\n",
      "              'dark',\n",
      "              'deep',\n",
      "              'ebony',\n",
      "              'fair',\n",
      "              'light',\n",
      "              'medium',\n",
      "              'olive',\n",
      "              'porcelain',\n",
      "              'tan'},\n",
      " 'skinType': {nan, 'dry', 'oily', 'combination', 'normal'}}\n"
     ]
    }
   ],
   "source": [
    "label_dict = {}\n",
    "\n",
    "for col in columns:\n",
    "    label_dict[col] = set(df[col])\n",
    "\n",
    "import pprint\n",
    "pprint.pprint(label_dict)"
   ]
  },
  {
   "cell_type": "code",
   "execution_count": 8,
   "metadata": {},
   "outputs": [
    {
     "name": "stdout",
     "output_type": "stream",
     "text": [
      "NAN <class 'float'>\n",
      "blue\n",
      "brown\n",
      "gray\n",
      "green\n",
      "hazel\n"
     ]
    }
   ],
   "source": [
    "for col in label_dict[\"eyeColor\"]:\n",
    "    if pd.isnull(col):\n",
    "        print(\"NAN\", type(col))\n",
    "    else:\n",
    "        print(col)"
   ]
  },
  {
   "cell_type": "code",
   "execution_count": 9,
   "metadata": {},
   "outputs": [
    {
     "data": {
      "text/html": [
       "<div>\n",
       "<style scoped>\n",
       "    .dataframe tbody tr th:only-of-type {\n",
       "        vertical-align: middle;\n",
       "    }\n",
       "\n",
       "    .dataframe tbody tr th {\n",
       "        vertical-align: top;\n",
       "    }\n",
       "\n",
       "    .dataframe thead th {\n",
       "        text-align: right;\n",
       "    }\n",
       "</style>\n",
       "<table border=\"1\" class=\"dataframe\">\n",
       "  <thead>\n",
       "    <tr style=\"text-align: right;\">\n",
       "      <th></th>\n",
       "      <th>AuthorId</th>\n",
       "      <th>Helpfulness</th>\n",
       "      <th>Id</th>\n",
       "      <th>LastModificationTime</th>\n",
       "      <th>ProductId</th>\n",
       "      <th>Rating</th>\n",
       "      <th>RatingRange</th>\n",
       "      <th>ReviewText</th>\n",
       "      <th>UserNickname</th>\n",
       "      <th>age</th>\n",
       "      <th>eyeColor</th>\n",
       "      <th>hairColor</th>\n",
       "      <th>skinTone</th>\n",
       "      <th>skinType</th>\n",
       "    </tr>\n",
       "  </thead>\n",
       "  <tbody>\n",
       "    <tr>\n",
       "      <th>8</th>\n",
       "      <td>1502678847</td>\n",
       "      <td>1.0</td>\n",
       "      <td>124469579</td>\n",
       "      <td>2019-04-08T05:42:12.000+00:00</td>\n",
       "      <td>2144608</td>\n",
       "      <td>5</td>\n",
       "      <td>5</td>\n",
       "      <td>RiRi did it again!\\r\\nI LOVE this set, from th...</td>\n",
       "      <td>purplemoon</td>\n",
       "      <td>13to17</td>\n",
       "      <td>brown</td>\n",
       "      <td>brunette</td>\n",
       "      <td>fair</td>\n",
       "      <td>dry</td>\n",
       "    </tr>\n",
       "    <tr>\n",
       "      <th>9</th>\n",
       "      <td>11745190902</td>\n",
       "      <td>NaN</td>\n",
       "      <td>124433325</td>\n",
       "      <td>2019-02-12T17:00:07.000+00:00</td>\n",
       "      <td>2144608</td>\n",
       "      <td>5</td>\n",
       "      <td>5</td>\n",
       "      <td>Love love love!! They definitely hit it out of...</td>\n",
       "      <td>thewhitejag</td>\n",
       "      <td>NaN</td>\n",
       "      <td>blue</td>\n",
       "      <td>brunette</td>\n",
       "      <td>porcelain</td>\n",
       "      <td>dry</td>\n",
       "    </tr>\n",
       "    <tr>\n",
       "      <th>24</th>\n",
       "      <td>1650932125</td>\n",
       "      <td>NaN</td>\n",
       "      <td>123165749</td>\n",
       "      <td>2019-01-09T13:45:04.000+00:00</td>\n",
       "      <td>2144608</td>\n",
       "      <td>5</td>\n",
       "      <td>5</td>\n",
       "      <td>I bought this for the hot pink and it is even ...</td>\n",
       "      <td>KRReed</td>\n",
       "      <td>NaN</td>\n",
       "      <td>brown</td>\n",
       "      <td>brunette</td>\n",
       "      <td>medium</td>\n",
       "      <td>dry</td>\n",
       "    </tr>\n",
       "    <tr>\n",
       "      <th>25</th>\n",
       "      <td>1650932125</td>\n",
       "      <td>NaN</td>\n",
       "      <td>123165712</td>\n",
       "      <td>2019-01-09T13:45:04.000+00:00</td>\n",
       "      <td>2144616</td>\n",
       "      <td>5</td>\n",
       "      <td>5</td>\n",
       "      <td>Love the colors! The blue isn't too overpoweri...</td>\n",
       "      <td>KRReed</td>\n",
       "      <td>NaN</td>\n",
       "      <td>brown</td>\n",
       "      <td>brunette</td>\n",
       "      <td>medium</td>\n",
       "      <td>dry</td>\n",
       "    </tr>\n",
       "    <tr>\n",
       "      <th>27</th>\n",
       "      <td>5213721427</td>\n",
       "      <td>NaN</td>\n",
       "      <td>123138536</td>\n",
       "      <td>2019-01-08T05:45:03.000+00:00</td>\n",
       "      <td>2144616</td>\n",
       "      <td>5</td>\n",
       "      <td>5</td>\n",
       "      <td>This is so out of my usual color range but I a...</td>\n",
       "      <td>MidnightDreamer</td>\n",
       "      <td>NaN</td>\n",
       "      <td>brown</td>\n",
       "      <td>brunette</td>\n",
       "      <td>fair</td>\n",
       "      <td>dry</td>\n",
       "    </tr>\n",
       "  </tbody>\n",
       "</table>\n",
       "</div>"
      ],
      "text/plain": [
       "       AuthorId  Helpfulness         Id           LastModificationTime  \\\n",
       "8    1502678847          1.0  124469579  2019-04-08T05:42:12.000+00:00   \n",
       "9   11745190902          NaN  124433325  2019-02-12T17:00:07.000+00:00   \n",
       "24   1650932125          NaN  123165749  2019-01-09T13:45:04.000+00:00   \n",
       "25   1650932125          NaN  123165712  2019-01-09T13:45:04.000+00:00   \n",
       "27   5213721427          NaN  123138536  2019-01-08T05:45:03.000+00:00   \n",
       "\n",
       "   ProductId  Rating  RatingRange  \\\n",
       "8    2144608       5            5   \n",
       "9    2144608       5            5   \n",
       "24   2144608       5            5   \n",
       "25   2144616       5            5   \n",
       "27   2144616       5            5   \n",
       "\n",
       "                                           ReviewText     UserNickname  \\\n",
       "8   RiRi did it again!\\r\\nI LOVE this set, from th...       purplemoon   \n",
       "9   Love love love!! They definitely hit it out of...      thewhitejag   \n",
       "24  I bought this for the hot pink and it is even ...           KRReed   \n",
       "25  Love the colors! The blue isn't too overpoweri...           KRReed   \n",
       "27  This is so out of my usual color range but I a...  MidnightDreamer   \n",
       "\n",
       "       age eyeColor hairColor   skinTone skinType  \n",
       "8   13to17    brown  brunette       fair      dry  \n",
       "9      NaN     blue  brunette  porcelain      dry  \n",
       "24     NaN    brown  brunette     medium      dry  \n",
       "25     NaN    brown  brunette     medium      dry  \n",
       "27     NaN    brown  brunette       fair      dry  "
      ]
     },
     "execution_count": 9,
     "metadata": {},
     "output_type": "execute_result"
    }
   ],
   "source": [
    "df[pd.isnull(df[\"skinType\"]) | (df[\"skinType\"] == \"dry\")].head()"
   ]
  },
  {
   "cell_type": "code",
   "execution_count": 10,
   "metadata": {},
   "outputs": [
    {
     "data": {
      "text/plain": [
       "dtype('int64')"
      ]
     },
     "execution_count": 10,
     "metadata": {},
     "output_type": "execute_result"
    }
   ],
   "source": [
    "df[\"Rating\"].dtype"
   ]
  },
  {
   "cell_type": "code",
   "execution_count": 11,
   "metadata": {},
   "outputs": [
    {
     "data": {
      "text/plain": [
       "3576"
      ]
     },
     "execution_count": 11,
     "metadata": {},
     "output_type": "execute_result"
    }
   ],
   "source": [
    "len(skus)"
   ]
  },
  {
   "cell_type": "code",
   "execution_count": 12,
   "metadata": {},
   "outputs": [
    {
     "name": "stdout",
     "output_type": "stream",
     "text": [
      "   0: counter =    242, used = 0.0, eta = 132.3\n",
      " 100: counter =  63886, used = 3.1, eta = 107.8\n",
      " 200: counter = 451856, used = 6.2, eta = 104.6\n",
      " 300: counter = 575769, used = 9.3, eta = 101.4\n",
      " 400: counter = 639144, used = 12.4, eta = 98.0\n",
      " 500: counter = 707585, used = 15.4, eta = 94.8\n",
      " 600: counter = 750114, used = 18.5, eta = 91.7\n",
      " 700: counter = 768783, used = 21.7, eta = 88.9\n",
      " 800: counter = 781166, used = 24.8, eta = 85.8\n",
      " 900: counter = 798851, used = 27.8, eta = 82.7\n",
      "1000: counter = 831205, used = 30.9, eta = 79.5\n",
      "1100: counter = 842426, used = 34.0, eta = 76.3\n",
      "1200: counter = 850016, used = 37.0, eta = 73.2\n",
      "1300: counter = 864924, used = 40.1, eta = 70.1\n",
      "1400: counter = 1057949, used = 43.2, eta = 67.1\n",
      "1500: counter = 1075247, used = 46.3, eta = 64.0\n",
      "1600: counter = 1165329, used = 49.4, eta = 60.9\n",
      "1700: counter = 1318457, used = 52.5, eta = 57.8\n",
      "1800: counter = 1334793, used = 55.5, eta = 54.7\n",
      "1900: counter = 1415476, used = 58.6, eta = 51.7\n",
      "2000: counter = 1470031, used = 61.7, eta = 48.6\n",
      "2100: counter = 1513398, used = 64.9, eta = 45.5\n",
      "2200: counter = 1565088, used = 68.0, eta = 42.5\n",
      "2300: counter = 1578637, used = 71.2, eta = 39.5\n",
      "2400: counter = 1598196, used = 74.4, eta = 36.4\n",
      "2500: counter = 1639253, used = 77.5, eta = 33.3\n",
      "2600: counter = 1745169, used = 80.5, eta = 30.2\n",
      "2700: counter = 1760492, used = 83.6, eta = 27.1\n",
      "2800: counter = 1859694, used = 86.7, eta = 24.0\n",
      "2900: counter = 1897323, used = 89.7, eta = 20.9\n",
      "3000: counter = 1971336, used = 92.8, eta = 17.8\n",
      "3100: counter = 2056048, used = 95.9, eta = 14.7\n",
      "3200: counter = 2066122, used = 98.9, eta = 11.6\n",
      "3300: counter = 2173201, used = 102.0, eta = 8.5\n",
      "3400: counter = 2196065, used = 105.0, eta = 5.4\n",
      "3500: counter = 2243435, used = 108.1, eta = 2.3\n"
     ]
    }
   ],
   "source": [
    "import time\n",
    "import math\n",
    "\n",
    "total = len(skus)\n",
    "\n",
    "result = {}\n",
    "\n",
    "t0 = time.time()\n",
    "\n",
    "counter = 0\n",
    "\n",
    "max_score = 0\n",
    "\n",
    "for i, sku in enumerate(skus):\n",
    "    buf = df[df[\"ProductId\"] == sku]\n",
    "    scores = {}\n",
    "    for j, col in enumerate(columns):\n",
    "        if pd.isnull(col):\n",
    "            continue\n",
    "        labels = label_dict[col]\n",
    "        scores[col] = {}\n",
    "        for k, label in enumerate(labels):\n",
    "            filtered = buf[pd.isnull(buf[col]) | (buf[col] == label)]\n",
    "            counter += len(filtered)\n",
    "            mean = filtered[\"Rating\"].mean()\n",
    "            cnt = len(filtered)\n",
    "            scores[col][label] = mean + math.log(cnt+1,10)\n",
    "            max_score = scores[col][label] if scores[col][label] > max_score else max_score\n",
    "    result[sku] = scores\n",
    "    if i % 100 == 0:\n",
    "        dt = time.time() - t0\n",
    "        print(\"{:>4d}: counter = {:>6d}, used = {:.1f}, eta = {:.1f}\".format(i, counter, dt, dt * (total - i - 1) / (i + 1)))"
   ]
  },
  {
   "cell_type": "code",
   "execution_count": 13,
   "metadata": {},
   "outputs": [
    {
     "data": {
      "text/plain": [
       "(2290924, 157456)"
      ]
     },
     "execution_count": 13,
     "metadata": {},
     "output_type": "execute_result"
    }
   ],
   "source": [
    "counter, len(df)"
   ]
  },
  {
   "cell_type": "code",
   "execution_count": 14,
   "metadata": {},
   "outputs": [],
   "source": [
    "import copy\n",
    "\n",
    "raw_result = copy.deepcopy(result)"
   ]
  },
  {
   "cell_type": "code",
   "execution_count": 15,
   "metadata": {},
   "outputs": [],
   "source": [
    "# raw_result"
   ]
  },
  {
   "cell_type": "code",
   "execution_count": 16,
   "metadata": {},
   "outputs": [
    {
     "data": {
      "text/plain": [
       "3576"
      ]
     },
     "execution_count": 16,
     "metadata": {},
     "output_type": "execute_result"
    }
   ],
   "source": [
    "len(result)"
   ]
  },
  {
   "cell_type": "code",
   "execution_count": 17,
   "metadata": {},
   "outputs": [
    {
     "name": "stdout",
     "output_type": "stream",
     "text": [
      "   0: used = 0.0, eta = 135.9\n",
      " 100: used = 14.8, eta = 510.5\n",
      " 200: used = 30.7, eta = 516.2\n",
      " 300: used = 48.7, eta = 529.8\n",
      " 400: used = 67.5, eta = 534.5\n",
      " 500: used = 84.6, eta = 519.2\n",
      " 600: used = 101.1, eta = 500.7\n",
      " 700: used = 120.6, eta = 494.4\n",
      " 800: used = 138.9, eta = 481.1\n",
      " 900: used = 154.6, eta = 459.0\n",
      "1000: used = 172.0, eta = 442.5\n",
      "1100: used = 190.5, eta = 428.2\n",
      "1200: used = 209.8, eta = 414.9\n",
      "1300: used = 225.5, eta = 394.4\n",
      "1400: used = 241.2, eta = 374.4\n",
      "1500: used = 258.9, eta = 357.9\n",
      "1600: used = 276.7, eta = 341.4\n",
      "1700: used = 293.7, eta = 323.7\n",
      "1800: used = 310.3, eta = 305.8\n",
      "1900: used = 329.5, eta = 290.3\n",
      "2000: used = 346.9, eta = 273.0\n",
      "2100: used = 365.2, eta = 256.4\n",
      "2200: used = 384.4, eta = 240.1\n",
      "2300: used = 403.3, eta = 223.5\n",
      "2400: used = 419.2, eta = 205.2\n",
      "2500: used = 436.2, eta = 187.5\n",
      "2600: used = 452.7, eta = 169.7\n",
      "2700: used = 470.6, eta = 152.5\n",
      "2800: used = 486.3, eta = 134.6\n",
      "2900: used = 504.0, eta = 117.3\n",
      "3000: used = 520.9, eta = 99.8\n",
      "3100: used = 537.0, eta = 82.2\n",
      "3200: used = 555.2, eta = 65.0\n",
      "3300: used = 570.8, eta = 47.6\n",
      "3400: used = 589.2, eta = 30.3\n",
      "3500: used = 607.1, eta = 13.0\n"
     ]
    }
   ],
   "source": [
    "result = copy.deepcopy(raw_result)\n",
    "\n",
    "total = len(result)\n",
    "\n",
    "t0 = time.time()\n",
    "\n",
    "for i, (sku, sku_scores) in enumerate(result.items()):\n",
    "    for j, (col, col_scores) in enumerate(sku_scores.items()):\n",
    "        for k, (label, score) in enumerate(col_scores.items()):\n",
    "            if np.isnan(score):\n",
    "                result[sku][col][label] = df[df[\"ProductId\"] == sku][\"Rating\"].mean() / max_score\n",
    "            else:\n",
    "                result[sku][col][label] = result[sku][col][label] / max_score\n",
    "        result[sku][col][\"nan\"] = df[df[\"ProductId\"] == sku][\"Rating\"].mean() / max_score\n",
    "    if i % 100 == 0:\n",
    "        dt = time.time() - t0\n",
    "        print(\"{:>4d}: used = {:.1f}, eta = {:.1f}\".format(i, dt, dt * (total - i - 1) / (i + 1)))"
   ]
  },
  {
   "cell_type": "code",
   "execution_count": 18,
   "metadata": {},
   "outputs": [],
   "source": [
    "# result"
   ]
  },
  {
   "cell_type": "code",
   "execution_count": 19,
   "metadata": {},
   "outputs": [],
   "source": [
    "import json\n",
    "\n",
    "with open(\"label rating with nan normalized.json\", \"w\", encoding=\"utf-8\") as fout:\n",
    "    json.dump(result, fout)"
   ]
  },
  {
   "cell_type": "code",
   "execution_count": null,
   "metadata": {},
   "outputs": [],
   "source": []
  }
 ],
 "metadata": {
  "kernelspec": {
   "display_name": "Python 3",
   "language": "python",
   "name": "python3"
  },
  "language_info": {
   "codemirror_mode": {
    "name": "ipython",
    "version": 3
   },
   "file_extension": ".py",
   "mimetype": "text/x-python",
   "name": "python",
   "nbconvert_exporter": "python",
   "pygments_lexer": "ipython3",
   "version": "3.6.7"
  }
 },
 "nbformat": 4,
 "nbformat_minor": 2
}
