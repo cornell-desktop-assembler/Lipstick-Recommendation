{
 "cells": [
  {
   "cell_type": "code",
   "execution_count": 40,
   "metadata": {},
   "outputs": [
    {
     "name": "stdout",
     "output_type": "stream",
     "text": [
      "3576\n"
     ]
    },
    {
     "data": {
      "text/plain": [
       "(array([  34.,   16.,   47.,   54.,  226.,  473., 1046., 1303.,  357.,\n",
       "          20.]),\n",
       " array([-4.20074109, -3.26200977, -2.32327845, -1.38454712, -0.4458158 ,\n",
       "         0.49291552,  1.43164684,  2.37037817,  3.30910949,  4.24784081,\n",
       "         5.18657213]),\n",
       " <a list of 10 Patch objects>)"
      ]
     },
     "execution_count": 40,
     "metadata": {},
     "output_type": "execute_result"
    },
    {
     "data": {
      "image/png": "[encoded data removed]",
      "text/plain": [
       "<Figure size 432x288 with 1 Axes>"
      ]
     },
     "metadata": {
      "needs_background": "light"
     },
     "output_type": "display_data"
    }
   ],
   "source": [
    "import csv\n",
    "import math\n",
    "import re\n",
    "import operator\n",
    "from collections import defaultdict\n",
    "data_list = []\n",
    "with open('all sephora.csv',mode = 'r') as csv_file:\n",
    "    all_data = csv.DictReader(csv_file)\n",
    "    for row in all_data:\n",
    "        data_list.append(row)\n",
    "# print (data_list[0])\n",
    "real_score = defaultdict(int)\n",
    "review_count = defaultdict(int)\n",
    "for row in data_list:\n",
    "    real_score[row['ProductId']] += (int(row['Rating'])-3)*(math.log(10+len(re.sub(\"[^\\w]\", \" \", row['ReviewText']).split()),10))\n",
    "    review_count[row['ProductId']] += 1\n",
    "real_rating = {}\n",
    "for key, value in real_score.items():\n",
    "    real_rating[key]=real_score[key]/review_count[key]\n",
    "#print (sorted(real_rating.items(), key=operator.itemgetter(1))[-10:])\n",
    "print (len(real_rating))\n",
    "scores = [v for k,v in real_rating.items()]\n",
    "import matplotlib\n",
    "matplotlib.pyplot.hist(scores,bins=10)"
   ]
  },
  {
   "cell_type": "code",
   "execution_count": null,
   "metadata": {},
   "outputs": [],
   "source": []
  },
  {
   "cell_type": "code",
   "execution_count": null,
   "metadata": {},
   "outputs": [],
   "source": []
  }
 ],
 "metadata": {
  "kernelspec": {
   "display_name": "Python 3",
   "language": "python",
   "name": "python3"
  },
  "language_info": {
   "codemirror_mode": {
    "name": "ipython",
    "version": 3
   },
   "file_extension": ".py",
   "mimetype": "text/x-python",
   "name": "python",
   "nbconvert_exporter": "python",
   "pygments_lexer": "ipython3",
   "version": "3.7.3"
  }
 },
 "nbformat": 4,
 "nbformat_minor": 2
}
