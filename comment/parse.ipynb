{
 "cells": [
  {
   "cell_type": "code",
   "execution_count": 4,
   "metadata": {},
   "outputs": [],
   "source": [
    "import json"
   ]
  },
  {
   "cell_type": "code",
   "execution_count": 5,
   "metadata": {},
   "outputs": [],
   "source": [
    "with open(\"raw jsons/P393411_0.json\", encoding=\"utf-8\") as fin:\n",
    "    j= json.loads(fin.read())"
   ]
  },
  {
   "cell_type": "code",
   "execution_count": 6,
   "metadata": {},
   "outputs": [
    {
     "data": {
      "text/plain": [
       "dict"
      ]
     },
     "execution_count": 6,
     "metadata": {},
     "output_type": "execute_result"
    }
   ],
   "source": [
    "type(j)"
   ]
  },
  {
   "cell_type": "code",
   "execution_count": 7,
   "metadata": {},
   "outputs": [
    {
     "data": {
      "text/plain": [
       "dict_keys(['Includes', 'Locale', 'Errors', 'Results', 'TotalResults', 'Limit', 'HasErrors', 'Offset'])"
      ]
     },
     "execution_count": 7,
     "metadata": {},
     "output_type": "execute_result"
    }
   ],
   "source": [
    "j.keys()"
   ]
  },
  {
   "cell_type": "code",
   "execution_count": 8,
   "metadata": {},
   "outputs": [
    {
     "data": {
      "text/plain": [
       "(False, [])"
      ]
     },
     "execution_count": 8,
     "metadata": {},
     "output_type": "execute_result"
    }
   ],
   "source": [
    "j[\"HasErrors\"], j[\"Errors\"]"
   ]
  },
  {
   "cell_type": "code",
   "execution_count": 9,
   "metadata": {},
   "outputs": [],
   "source": [
    "totres = j[\"TotalResults\"]"
   ]
  },
  {
   "cell_type": "code",
   "execution_count": 10,
   "metadata": {},
   "outputs": [
    {
     "data": {
      "text/plain": [
       "int"
      ]
     },
     "execution_count": 10,
     "metadata": {},
     "output_type": "execute_result"
    }
   ],
   "source": [
    "type(totres)"
   ]
  },
  {
   "cell_type": "code",
   "execution_count": 11,
   "metadata": {},
   "outputs": [
    {
     "data": {
      "text/plain": [
       "645"
      ]
     },
     "execution_count": 11,
     "metadata": {},
     "output_type": "execute_result"
    }
   ],
   "source": [
    "totres"
   ]
  },
  {
   "cell_type": "code",
   "execution_count": 12,
   "metadata": {},
   "outputs": [],
   "source": [
    "results = j[\"Results\"]"
   ]
  },
  {
   "cell_type": "code",
   "execution_count": 13,
   "metadata": {},
   "outputs": [
    {
     "data": {
      "text/plain": [
       "list"
      ]
     },
     "execution_count": 13,
     "metadata": {},
     "output_type": "execute_result"
    }
   ],
   "source": [
    "type(results)"
   ]
  },
  {
   "cell_type": "code",
   "execution_count": 14,
   "metadata": {},
   "outputs": [
    {
     "data": {
      "text/plain": [
       "100"
      ]
     },
     "execution_count": 14,
     "metadata": {},
     "output_type": "execute_result"
    }
   ],
   "source": [
    "len(results)"
   ]
  },
  {
   "cell_type": "code",
   "execution_count": 15,
   "metadata": {},
   "outputs": [],
   "source": [
    "r0 = results[0]"
   ]
  },
  {
   "cell_type": "code",
   "execution_count": 16,
   "metadata": {},
   "outputs": [
    {
     "data": {
      "text/plain": [
       "dict"
      ]
     },
     "execution_count": 16,
     "metadata": {},
     "output_type": "execute_result"
    }
   ],
   "source": [
    "type(r0)"
   ]
  },
  {
   "cell_type": "code",
   "execution_count": 17,
   "metadata": {},
   "outputs": [
    {
     "data": {
      "text/plain": [
       "dict_keys(['UserNickname', 'Rating', 'ReviewText', 'ContextDataValues', 'ProductId', 'Videos', 'Photos', 'CommentIds', 'TotalNegativeFeedbackCount', 'RatingRange', 'CampaignId', 'UserLocation', 'SecondaryRatingsOrder', 'TotalCommentCount', 'ContextDataValuesOrder', 'ClientResponses', 'TagDimensionsOrder', 'TotalPositiveFeedbackCount', 'IsRatingsOnly', 'LastModificationTime', 'Pros', 'ProductRecommendationIds', 'BadgesOrder', 'AuthorId', 'Helpfulness', 'SubmissionTime', 'AdditionalFields', 'AdditionalFieldsOrder', 'TotalFeedbackCount', 'Title', 'ModerationStatus', 'IsFeatured', 'Cons', 'TagDimensions', 'SecondaryRatings', 'Badges', 'SubmissionId', 'IsSyndicated', 'IsRecommended', 'LastModeratedTime', 'Id', 'ContentLocale'])"
      ]
     },
     "execution_count": 17,
     "metadata": {},
     "output_type": "execute_result"
    }
   ],
   "source": [
    "r0.keys()"
   ]
  },
  {
   "cell_type": "code",
   "execution_count": 18,
   "metadata": {},
   "outputs": [
    {
     "data": {
      "text/plain": [
       "{'Value': 'fair',\n",
       " 'Id': 'skinTone',\n",
       " 'ValueLabel': 'Fair',\n",
       " 'DimensionLabel': 'Skin Tone'}"
      ]
     },
     "execution_count": 18,
     "metadata": {},
     "output_type": "execute_result"
    }
   ],
   "source": [
    "r0[\"ContextDataValues\"][\"skinTone\"]"
   ]
  },
  {
   "cell_type": "code",
   "execution_count": 19,
   "metadata": {},
   "outputs": [],
   "source": [
    "import pandas as pd"
   ]
  },
  {
   "cell_type": "code",
   "execution_count": 108,
   "metadata": {},
   "outputs": [],
   "source": [
    "def formulate_data(r):\n",
    "    data = {\n",
    "        \"UserNickname\": r[\"UserNickname\"],\n",
    "        \"Rating\":       r[\"Rating\"],\n",
    "        \"ReviewText\":   r[\"ReviewText\"],\n",
    "        \"ProductId\":    r[\"ProductId\"],\n",
    "        \"RatingRange\":  r[\"RatingRange\"],\n",
    "        \"LastModificationTime\": r[\"LastModificationTime\"],\n",
    "        \"AuthorId\":     r[\"AuthorId\"],\n",
    "        \"Helpfulness\":  r[\"Helpfulness\"],\n",
    "        \"Id\":           r[\"Id\"],\n",
    "    }\n",
    "\n",
    "    if \"ContextDataValues\" in r:\n",
    "        ctx = r[\"ContextDataValues\"]\n",
    "        d2 = {\n",
    "            \"skinType\":     ctx[\"skinType\"][\"Value\"] if \"skinType\" in ctx else None,\n",
    "            \"eyeColor\":     ctx[\"eyeColor\"][\"Value\"] if \"eyeColor\" in ctx else None,\n",
    "            \"hairColor\":    ctx[\"hairColor\"][\"Value\"] if \"hairColor\" in ctx else None,\n",
    "            \"skinTone\":     ctx[\"skinTone\"][\"Value\"] if \"skinTone\" in ctx else None,\n",
    "            \"age\":          ctx[\"age\"][\"Value\"] if \"age\" in ctx else None,\n",
    "        }\n",
    "        data.update(d2)\n",
    "    return data"
   ]
  },
  {
   "cell_type": "code",
   "execution_count": 109,
   "metadata": {},
   "outputs": [],
   "source": [
    "columns = \"UserNickname, Rating, ReviewText, skinType, eyeColor, hairColor, skinTone, age, ProductId, RatingRange, LastModificationTime, AuthorId, Helpfulness, Id\".split(\", \")"
   ]
  },
  {
   "cell_type": "code",
   "execution_count": 110,
   "metadata": {},
   "outputs": [],
   "source": [
    "import time\n",
    "import os"
   ]
  },
  {
   "cell_type": "code",
   "execution_count": 111,
   "metadata": {},
   "outputs": [
    {
     "name": "stdout",
     "output_type": "stream",
     "text": [
      " 100: used =   0.43, eta = 7.10\n",
      " 200: used =   0.77, eta = 6.01\n",
      " 300: used =   1.07, eta = 5.18\n",
      " 400: used =   1.38, eta = 4.68\n",
      " 500: used =   1.69, eta = 4.25\n",
      " 600: used =   2.10, eta = 4.06\n",
      " 700: used =   2.40, eta = 3.63\n",
      " 800: used =   2.71, eta = 3.24\n",
      " 900: used =   3.03, eta = 2.88\n",
      "1000: used =   3.35, eta = 2.54\n",
      "1100: used =   3.75, eta = 2.25\n",
      "1200: used =   4.04, eta = 1.88\n",
      "1300: used =   4.33, eta = 1.53\n",
      "1400: used =   4.70, eta = 1.20\n",
      "1500: used =   5.17, eta = 0.89\n",
      "1600: used =   5.47, eta = 0.54\n",
      "1700: used =   5.76, eta = 0.20\n",
      "1758: used =   5.90, eta = 0.00\n",
      "creating df\n"
     ]
    }
   ],
   "source": [
    "all_data = []\n",
    "t0 = time.time()\n",
    "for root, dirs, files in os.walk(\"./raw jsons/\"):\n",
    "    for i, file in enumerate(files):\n",
    "        if file.endswith(\".json\"):\n",
    "            with open(os.path.join(\"raw jsons\", file), encoding=\"utf-8\") as fin:\n",
    "                j = json.load(fin)\n",
    "                if \"Results\" in j:\n",
    "                    for r in j[\"Results\"]:\n",
    "                        all_data.append(formulate_data(r))\n",
    "            if (i + 1) % 100 == 0 or i + 1 == len(files):\n",
    "                dt = time.time() - t0\n",
    "                print(\"{:4d}: used = {:>6.2f}, eta = {:.2f}\".format(i+1, dt, dt * (len(files) - i - 1) / (i + 1)))\n",
    "\n",
    "print(\"creating df\")\n",
    "df = pd.DataFrame(all_data)"
   ]
  },
  {
   "cell_type": "code",
   "execution_count": 112,
   "metadata": {},
   "outputs": [
    {
     "data": {
      "text/plain": [
       "157456"
      ]
     },
     "execution_count": 112,
     "metadata": {},
     "output_type": "execute_result"
    }
   ],
   "source": [
    "len(df)"
   ]
  },
  {
   "cell_type": "code",
   "execution_count": 113,
   "metadata": {},
   "outputs": [],
   "source": [
    "df.to_csv(\"all sephora.csv\", encoding=\"utf-8\")"
   ]
  },
  {
   "cell_type": "code",
   "execution_count": 114,
   "metadata": {},
   "outputs": [
    {
     "data": {
      "text/plain": [
       "Index(['AuthorId', 'Helpfulness', 'Id', 'LastModificationTime', 'ProductId',\n",
       "       'Rating', 'RatingRange', 'ReviewText', 'UserNickname', 'age',\n",
       "       'eyeColor', 'hairColor', 'skinTone', 'skinType'],\n",
       "      dtype='object')"
      ]
     },
     "execution_count": 114,
     "metadata": {},
     "output_type": "execute_result"
    }
   ],
   "source": [
    "df.columns"
   ]
  },
  {
   "cell_type": "code",
   "execution_count": 119,
   "metadata": {},
   "outputs": [
    {
     "name": "stdout",
     "output_type": "stream",
     "text": [
      "3576\n"
     ]
    },
    {
     "data": {
      "text/plain": [
       "['1905538',\n",
       " '2026615',\n",
       " '2026664',\n",
       " '2015576',\n",
       " '2121044',\n",
       " '1371830',\n",
       " '1905462',\n",
       " '2177210',\n",
       " '1911841',\n",
       " '2064897']"
      ]
     },
     "execution_count": 119,
     "metadata": {},
     "output_type": "execute_result"
    }
   ],
   "source": [
    "print(len(set(df.ProductId)))\n",
    "list(set(df.ProductId))[:10]"
   ]
  },
  {
   "cell_type": "markdown",
   "metadata": {},
   "source": [
    "## Plot"
   ]
  },
  {
   "cell_type": "code",
   "execution_count": 120,
   "metadata": {},
   "outputs": [],
   "source": [
    "import matplotlib.pyplot as plt"
   ]
  },
  {
   "cell_type": "code",
   "execution_count": 121,
   "metadata": {},
   "outputs": [],
   "source": [
    "import collections"
   ]
  },
  {
   "cell_type": "code",
   "execution_count": 122,
   "metadata": {},
   "outputs": [],
   "source": [
    "import seaborn as sns"
   ]
  },
  {
   "cell_type": "code",
   "execution_count": 123,
   "metadata": {},
   "outputs": [
    {
     "data": {
      "image/png": "[encoded data removed]",
      "text/plain": [
       "<Figure size 432x288 with 1 Axes>"
      ]
     },
     "metadata": {
      "needs_background": "light"
     },
     "output_type": "display_data"
    }
   ],
   "source": [
    "ax = sns.countplot(x=\"Rating\", data=df)"
   ]
  },
  {
   "cell_type": "code",
   "execution_count": 124,
   "metadata": {},
   "outputs": [
    {
     "data": {
      "image/png": "[encoded data removed]",
      "text/plain": [
       "<Figure size 432x288 with 1 Axes>"
      ]
     },
     "metadata": {
      "needs_background": "light"
     },
     "output_type": "display_data"
    }
   ],
   "source": [
    "skinTone = sns.countplot(x=\"skinTone\", data=df)"
   ]
  },
  {
   "cell_type": "code",
   "execution_count": 125,
   "metadata": {},
   "outputs": [
    {
     "data": {
      "image/png": "[encoded data removed]",
      "text/plain": [
       "<Figure size 1080x648 with 4 Axes>"
      ]
     },
     "metadata": {
      "needs_background": "light"
     },
     "output_type": "display_data"
    }
   ],
   "source": [
    "f, axes = plt.subplots(2, 2, figsize=(15, 9), sharex=False)\n",
    "skinTone = sns.countplot(x=\"skinTone\", data=df, ax=axes[0, 0])\n",
    "skinType = sns.countplot(x=\"skinType\", data=df, ax=axes[0, 1])\n",
    "eyeColor = sns.countplot(x=\"eyeColor\", data=df, ax=axes[1, 0])\n",
    "hairColor = sns.countplot(x=\"hairColor\", data=df, ax=axes[1, 1])"
   ]
  },
  {
   "cell_type": "markdown",
   "metadata": {},
   "source": [
    "## Data Size"
   ]
  },
  {
   "cell_type": "code",
   "execution_count": null,
   "metadata": {},
   "outputs": [],
   "source": []
  },
  {
   "cell_type": "code",
   "execution_count": null,
   "metadata": {},
   "outputs": [],
   "source": []
  },
  {
   "cell_type": "markdown",
   "metadata": {},
   "source": [
    "## Relevant Statistics"
   ]
  },
  {
   "cell_type": "markdown",
   "metadata": {},
   "source": [
    "## Challenges from a Data"
   ]
  },
  {
   "cell_type": "markdown",
   "metadata": {},
   "source": [
    "## Additional Data (plan)\n",
    "\n",
    "including the expected size of the data and discussing the collection timeframe taking into account API limitations/rules\n",
    "\n",
    " "
   ]
  },
  {
   "cell_type": "code",
   "execution_count": null,
   "metadata": {},
   "outputs": [],
   "source": []
  },
  {
   "cell_type": "markdown",
   "metadata": {},
   "source": [
    "## Word Cloud"
   ]
  },
  {
   "cell_type": "code",
   "execution_count": null,
   "metadata": {},
   "outputs": [],
   "source": [
    "from nltk.tokenize import TreebankWordTokenizer"
   ]
  },
  {
   "cell_type": "code",
   "execution_count": null,
   "metadata": {},
   "outputs": [],
   "source": [
    "tokenizer = TreebankWordTokenizer()"
   ]
  },
  {
   "cell_type": "code",
   "execution_count": null,
   "metadata": {},
   "outputs": [],
   "source": [
    "import re"
   ]
  },
  {
   "cell_type": "code",
   "execution_count": null,
   "metadata": {},
   "outputs": [],
   "source": [
    "s = \"\\n\".join(df.ReviewText)"
   ]
  },
  {
   "cell_type": "code",
   "execution_count": null,
   "metadata": {},
   "outputs": [],
   "source": [
    "s = re.sub(r\"[^A-Za-z]\", \" \", s)"
   ]
  },
  {
   "cell_type": "code",
   "execution_count": null,
   "metadata": {},
   "outputs": [],
   "source": [
    "tokens = tokenizer.tokenize(s.lower())"
   ]
  },
  {
   "cell_type": "code",
   "execution_count": null,
   "metadata": {},
   "outputs": [],
   "source": [
    "rule = re.compile(r\"\\w+\")"
   ]
  },
  {
   "cell_type": "code",
   "execution_count": null,
   "metadata": {},
   "outputs": [],
   "source": [
    "from nltk.corpus import stopwords\n",
    "\n",
    "stops = set(stopwords.words('english'))"
   ]
  },
  {
   "cell_type": "code",
   "execution_count": null,
   "metadata": {},
   "outputs": [],
   "source": [
    "tokens = list(filter(\n",
    "    lambda x : \"lip\" not in x,\n",
    "    filter(\n",
    "        lambda x : x not in stops,\n",
    "        filter(\n",
    "            rule.match,\n",
    "            tokens\n",
    "        )\n",
    "    )\n",
    "))"
   ]
  },
  {
   "cell_type": "code",
   "execution_count": null,
   "metadata": {},
   "outputs": [],
   "source": [
    "counter = collections.Counter(tokens)"
   ]
  },
  {
   "cell_type": "code",
   "execution_count": null,
   "metadata": {},
   "outputs": [],
   "source": [
    "counter[\"formal\"]"
   ]
  },
  {
   "cell_type": "code",
   "execution_count": null,
   "metadata": {},
   "outputs": [],
   "source": [
    "for k, v in counter.items():\n",
    "    if v > 5:\n",
    "        print(v, k)"
   ]
  },
  {
   "cell_type": "markdown",
   "metadata": {},
   "source": [
    "---"
   ]
  },
  {
   "cell_type": "code",
   "execution_count": null,
   "metadata": {},
   "outputs": [],
   "source": [
    "prods = j[\"Includes\"][\"Products\"]"
   ]
  },
  {
   "cell_type": "code",
   "execution_count": null,
   "metadata": {},
   "outputs": [],
   "source": [
    "prods[\"1664267\"]"
   ]
  },
  {
   "cell_type": "code",
   "execution_count": null,
   "metadata": {},
   "outputs": [],
   "source": [
    "sorted(collections.Counter(df[\"ProductId\"]).items(), key=lambda item : item[1], reverse=True)"
   ]
  },
  {
   "cell_type": "code",
   "execution_count": null,
   "metadata": {},
   "outputs": [],
   "source": [
    "def print_sorted(skuid):\n",
    "    global df\n",
    "    df[df[\"ProductId\"] == skuid]\n",
    "    print(\"skinTone\")\n",
    "    print(sorted(collections.Counter(df[\"skinTone\"]).items(), key=lambda item : item[1], reverse=True))"
   ]
  },
  {
   "cell_type": "code",
   "execution_count": null,
   "metadata": {},
   "outputs": [],
   "source": [
    "print_sorted(\"1441641\")"
   ]
  },
  {
   "cell_type": "markdown",
   "metadata": {},
   "source": [
    "---"
   ]
  },
  {
   "cell_type": "code",
   "execution_count": null,
   "metadata": {},
   "outputs": [],
   "source": [
    "import re, json"
   ]
  },
  {
   "cell_type": "code",
   "execution_count": null,
   "metadata": {},
   "outputs": [],
   "source": [
    "with open(\"listing.txt\") as fin:\n",
    "    t = fin.read()\n",
    "pids = set(re.findall(r\"(?:grid:)(.*?)(?::)\", t))\n",
    "pids.add(\"P443336\")"
   ]
  },
  {
   "cell_type": "code",
   "execution_count": null,
   "metadata": {},
   "outputs": [],
   "source": [
    "import math"
   ]
  },
  {
   "cell_type": "code",
   "execution_count": null,
   "metadata": {},
   "outputs": [],
   "source": [
    "count = 0\n",
    "total = 0\n",
    "for i, pid in enumerate(pids):\n",
    "    offset = 0\n",
    "    with open(\"raw jsons/{pid}_{offset}.json\".format(pid=pid, offset=offset), encoding=\"utf-8\") as fin:\n",
    "        j = json.load(fin)\n",
    "    print(\"{i:>4d}/{t} {pid:>12s}_{offset}: TotalResults={TotalResults:<5d} Errors={Errors}\".format(\n",
    "        i=i, \n",
    "        t=len(pids), \n",
    "        pid=pid, \n",
    "        offset=offset,\n",
    "        TotalResults=j[\"TotalResults\"],\n",
    "        Errors=j[\"Errors\"]))\n",
    "    total += j[\"TotalResults\"]\n",
    "    count += math.ceil(j[\"TotalResults\"]/100)"
   ]
  },
  {
   "cell_type": "code",
   "execution_count": null,
   "metadata": {},
   "outputs": [],
   "source": [
    "count, total"
   ]
  },
  {
   "cell_type": "markdown",
   "metadata": {},
   "source": [
    "---"
   ]
  },
  {
   "cell_type": "code",
   "execution_count": null,
   "metadata": {},
   "outputs": [],
   "source": []
  }
 ],
 "metadata": {
  "kernelspec": {
   "display_name": "Python 3",
   "language": "python",
   "name": "python3"
  },
  "language_info": {
   "codemirror_mode": {
    "name": "ipython",
    "version": 3
   },
   "file_extension": ".py",
   "mimetype": "text/x-python",
   "name": "python",
   "nbconvert_exporter": "python",
   "pygments_lexer": "ipython3",
   "version": "3.6.7"
  }
 },
 "nbformat": 4,
 "nbformat_minor": 2
}
