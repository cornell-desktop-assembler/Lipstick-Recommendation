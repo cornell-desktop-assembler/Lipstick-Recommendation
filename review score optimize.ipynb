{
 "cells": [
  {
   "cell_type": "code",
   "execution_count": 1,
   "metadata": {},
   "outputs": [],
   "source": [
    "import json"
   ]
  },
  {
   "cell_type": "code",
   "execution_count": 2,
   "metadata": {},
   "outputs": [],
   "source": [
    "with open('tf_sentiment.json','r') as f:\n",
    "            tf = json.load(f)"
   ]
  },
  {
   "cell_type": "code",
   "execution_count": 6,
   "metadata": {},
   "outputs": [
    {
     "data": {
      "text/plain": [
       "{'ca': 1,\n",
       " 'pass': 1,\n",
       " 'hated': -1,\n",
       " 'even': 1,\n",
       " 'cheap': 1,\n",
       " 'tube': -1,\n",
       " 'creases': 1,\n",
       " 'friend': 1,\n",
       " 'lips': 1,\n",
       " 'dry': 1,\n",
       " ',': 1,\n",
       " 'sleek': -1,\n",
       " 'Pink': 1,\n",
       " 'Looks': 1,\n",
       " 'Sunk': 1,\n",
       " 'panther': 1,\n",
       " 'Yulk': 1,\n",
       " \"n't\": 1,\n",
       " 'I': 0,\n",
       " 'Not': 1,\n",
       " 'everything': -1,\n",
       " 'except': -1,\n",
       " 'size': -1,\n",
       " '.': 5,\n",
       " 'think': 1,\n",
       " 'pink': 1}"
      ]
     },
     "execution_count": 6,
     "metadata": {},
     "output_type": "execute_result"
    }
   ],
   "source": [
    "tf[\"2084358\"]"
   ]
  },
  {
   "cell_type": "code",
   "execution_count": 7,
   "metadata": {},
   "outputs": [],
   "source": [
    "from collections import defaultdict"
   ]
  },
  {
   "cell_type": "code",
   "execution_count": 16,
   "metadata": {},
   "outputs": [],
   "source": [
    "buf_raw = defaultdict(lambda : defaultdict(int))"
   ]
  },
  {
   "cell_type": "code",
   "execution_count": 25,
   "metadata": {},
   "outputs": [],
   "source": [
    "with open(\"review_score_sent_opt_raw.json\", \"w\", encoding=\"utf-8\") as fout:\n",
    "    json.dump(buf_raw, fout)"
   ]
  },
  {
   "cell_type": "code",
   "execution_count": 26,
   "metadata": {},
   "outputs": [],
   "source": [
    "kw_set = set()"
   ]
  },
  {
   "cell_type": "code",
   "execution_count": 27,
   "metadata": {},
   "outputs": [],
   "source": [
    "with open(\"review_score_sent_opt_raw.json\", encoding=\"utf-8\") as fin:\n",
    "    TF_SENT_OPT = json.load(fin)"
   ]
  },
  {
   "cell_type": "code",
   "execution_count": 28,
   "metadata": {},
   "outputs": [],
   "source": [
    "for item in TF_SENT_OPT.values():\n",
    "    for kw in item.keys():\n",
    "        kw_set.add(kw)"
   ]
  },
  {
   "cell_type": "code",
   "execution_count": 30,
   "metadata": {},
   "outputs": [],
   "source": [
    "import pickle"
   ]
  },
  {
   "cell_type": "code",
   "execution_count": 31,
   "metadata": {},
   "outputs": [],
   "source": [
    "with open(\"kw_set.pkl\", \"wb\") as fout:\n",
    "    pickle.dump(kw_set, fout)"
   ]
  },
  {
   "cell_type": "code",
   "execution_count": null,
   "metadata": {},
   "outputs": [],
   "source": []
  }
 ],
 "metadata": {
  "kernelspec": {
   "display_name": "Python 3",
   "language": "python",
   "name": "python3"
  },
  "language_info": {
   "codemirror_mode": {
    "name": "ipython",
    "version": 3
   },
   "file_extension": ".py",
   "mimetype": "text/x-python",
   "name": "python",
   "nbconvert_exporter": "python",
   "pygments_lexer": "ipython3",
   "version": "3.6.7"
  }
 },
 "nbformat": 4,
 "nbformat_minor": 2
}
