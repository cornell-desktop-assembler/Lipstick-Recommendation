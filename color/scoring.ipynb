{
 "cells": [
  {
   "cell_type": "code",
   "execution_count": 2,
   "metadata": {},
   "outputs": [],
   "source": [
    "import pickle\n",
    "\n",
    "import numpy as np\n",
    "import os\n",
    "\n",
    "data_path = os.path.join(\n",
    "    \"data.pkl\"\n",
    ")\n",
    "\n",
    "with open(data_path, \"rb\") as fin:\n",
    "    data = pickle.load(fin)\n",
    "\n",
    "sku2i, i2sku, i2rgb, raw, reduced = data[\"sku2i\"], data[\"i2sku\"], data[\"i2rgb\"], data[\"raw\"], data[\"reduced\"]"
   ]
  },
  {
   "cell_type": "code",
   "execution_count": 3,
   "metadata": {},
   "outputs": [],
   "source": [
    "raw_normalized = raw / 255\n",
    "\n",
    "u, s, vt = np.linalg.svd(raw_normalized, full_matrices=False)\n",
    "\n",
    "u_ = u[:, :2]\n",
    "s_ = s[:2]\n",
    "vt_ = vt[:2, :]\n",
    "\n",
    "s_inv = np.linalg.inv(np.diag(s))\n",
    "vt_inv = np.linalg.inv(vt)"
   ]
  },
  {
   "cell_type": "code",
   "execution_count": 7,
   "metadata": {},
   "outputs": [],
   "source": [
    "def svd_of_vec(vec):\n",
    "    return np.dot(np.dot(vec, vt_inv), s_inv)"
   ]
  },
  {
   "cell_type": "code",
   "execution_count": 8,
   "metadata": {},
   "outputs": [],
   "source": [
    "def euclidean_distances(rgb, comparing=u_):\n",
    "    after_svd = svd_of_vec(rgb / 255)[:2]\n",
    "    diff = comparing - after_svd\n",
    "    return np.linalg.norm(diff, axis=1)"
   ]
  },
  {
   "cell_type": "code",
   "execution_count": 9,
   "metadata": {},
   "outputs": [
    {
     "name": "stdout",
     "output_type": "stream",
     "text": [
      "[6.78043916e-16 3.10020396e-03 3.63599811e-03 ... 1.75647520e-02\n",
      " 5.01719426e-02 4.10555049e-02]\n"
     ]
    }
   ],
   "source": [
    "for rgb in raw:\n",
    "    print(euclidean_distances(rgb))\n",
    "    break"
   ]
  },
  {
   "cell_type": "code",
   "execution_count": null,
   "metadata": {},
   "outputs": [],
   "source": []
  }
 ],
 "metadata": {
  "kernelspec": {
   "display_name": "Python 3",
   "language": "python",
   "name": "python3"
  },
  "language_info": {
   "codemirror_mode": {
    "name": "ipython",
    "version": 3
   },
   "file_extension": ".py",
   "mimetype": "text/x-python",
   "name": "python",
   "nbconvert_exporter": "python",
   "pygments_lexer": "ipython3",
   "version": "3.6.7"
  }
 },
 "nbformat": 4,
 "nbformat_minor": 2
}
