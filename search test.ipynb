{
 "cells": [
  {
   "cell_type": "code",
   "execution_count": 1,
   "metadata": {},
   "outputs": [],
   "source": [
    "import search"
   ]
  },
  {
   "cell_type": "code",
   "execution_count": 2,
   "metadata": {},
   "outputs": [],
   "source": [
    "import random"
   ]
  },
  {
   "cell_type": "code",
   "execution_count": 3,
   "metadata": {},
   "outputs": [],
   "source": [
    "import numpy as np"
   ]
  },
  {
   "cell_type": "code",
   "execution_count": 4,
   "metadata": {},
   "outputs": [],
   "source": [
    "import review_score"
   ]
  },
  {
   "cell_type": "code",
   "execution_count": 8,
   "metadata": {},
   "outputs": [],
   "source": [
    "import time"
   ]
  },
  {
   "cell_type": "code",
   "execution_count": 9,
   "metadata": {},
   "outputs": [],
   "source": [
    "kw_set = review_score.get_kw_set()"
   ]
  },
  {
   "cell_type": "code",
   "execution_count": 10,
   "metadata": {},
   "outputs": [
    {
     "data": {
      "text/plain": [
       "52652"
      ]
     },
     "execution_count": 10,
     "metadata": {},
     "output_type": "execute_result"
    }
   ],
   "source": [
    "len(kw_set)"
   ]
  },
  {
   "cell_type": "markdown",
   "metadata": {},
   "source": [
    "review score iso test"
   ]
  },
  {
   "cell_type": "code",
   "execution_count": 11,
   "metadata": {},
   "outputs": [
    {
     "name": "stdout",
     "output_type": "stream",
     "text": [
      "0.019752964973449708\n"
     ]
    }
   ],
   "source": [
    "REP = 100\n",
    "t0 = time.time()\n",
    "for i in range(REP):\n",
    "    kws = random.sample(list(kw_set), k=30)\n",
    "    result = review_score.review_score_sent_opt(keywords=kws)\n",
    "print((time.time() - t0)/REP)"
   ]
  },
  {
   "cell_type": "markdown",
   "metadata": {},
   "source": [
    "---"
   ]
  },
  {
   "cell_type": "code",
   "execution_count": 12,
   "metadata": {},
   "outputs": [],
   "source": [
    "eyecolors = ['nan', 'brown', 'gray', 'green', 'blue', 'hazel']\n",
    "haircolors = ['nan', 'blonde', 'gray', 'red', 'brunette', 'black', 'auburn']\n",
    "skintones = ['nan', 'light', 'tan', 'porcelain', 'deep', 'fair', 'dark', 'medium', 'ebony', 'olive']\n",
    "skintypes = ['nan', 'normal', 'dry', 'oily', 'combination']\n",
    "\n",
    "# eyecolors = ['brown', 'gray', 'green', 'blue', 'hazel']\n",
    "# haircolors = ['blonde', 'gray', 'red', 'brunette', 'black', 'auburn']\n",
    "# skintones = ['light', 'tan', 'porcelain', 'deep', 'fair', 'dark', 'medium', 'ebony', 'olive']\n",
    "# skintypes = ['normal', 'dry', 'oily', 'combination']\n"
   ]
  },
  {
   "cell_type": "code",
   "execution_count": null,
   "metadata": {},
   "outputs": [],
   "source": []
  },
  {
   "cell_type": "code",
   "execution_count": 19,
   "metadata": {},
   "outputs": [],
   "source": [
    "def generate_query(keywords=None, skinTone=None, skinType=None, hairColor=None, eyeColor=None):\n",
    "    query = {\n",
    "        \"keywords\" : keywords if keywords is not None else random.sample(list(kw_set), k=300),\n",
    "        \"brands\" : [ \"b1\", \"b2\"],\n",
    "        \"skinTone\" : skinTone if skinTone is not None else random.choice(skintones),\n",
    "        \"skinType\" : skinType if skinType is not None else random.choice(skintypes),\n",
    "        \"hairColor\" : hairColor if hairColor is not None else random.choice(haircolors),\n",
    "        \"eyeColor\" : eyeColor if eyeColor is not None else random.choice(eyecolors),\n",
    "        \"r\" : str(random.randint(a=120, b=255)),\n",
    "        \"g\" : str(random.randint(a=0, b=255)),\n",
    "        \"b\" : str(random.randint(a=0, b=255)),\n",
    "        \"ingredient_kws\" : [ \"kw1\", \"kw2\", ...],\n",
    "    }\n",
    "    \n",
    "    return query"
   ]
  },
  {
   "cell_type": "code",
   "execution_count": 20,
   "metadata": {},
   "outputs": [],
   "source": [
    "# result = search.search(query)"
   ]
  },
  {
   "cell_type": "code",
   "execution_count": 24,
   "metadata": {},
   "outputs": [],
   "source": [
    "def one_time():\n",
    "    t0 = time.time()\n",
    "    query = generate_query()\n",
    "    dt1 = time.time() - t0\n",
    "    result = search.search(query)\n",
    "    dt2 = time.time() - t0 - dt1\n",
    "    return result, dt1, dt2"
   ]
  },
  {
   "cell_type": "code",
   "execution_count": 25,
   "metadata": {},
   "outputs": [],
   "source": [
    "import time"
   ]
  },
  {
   "cell_type": "code",
   "execution_count": 26,
   "metadata": {},
   "outputs": [
    {
     "name": "stdout",
     "output_type": "stream",
     "text": [
      "0.2038780951499939 0.0031586337089538575 0.19817972898483277\n"
     ]
    }
   ],
   "source": [
    "REP = 100\n",
    "t0 = time.time()\n",
    "tot_dt1 = 0\n",
    "tot_dt2 = 0\n",
    "for i in range(REP):\n",
    "    _, dt1, dt2 = one_time()\n",
    "    tot_dt1 += dt1\n",
    "    tot_dt2 += dt2\n",
    "print((time.time() - t0)/REP, tot_dt1/REP, tot_dt2/REP)"
   ]
  },
  {
   "cell_type": "markdown",
   "metadata": {},
   "source": [
    "---"
   ]
  },
  {
   "cell_type": "markdown",
   "metadata": {},
   "source": [
    "cartesian product"
   ]
  },
  {
   "cell_type": "code",
   "execution_count": 18,
   "metadata": {},
   "outputs": [],
   "source": [
    "import itertools"
   ]
  },
  {
   "cell_type": "code",
   "execution_count": 20,
   "metadata": {},
   "outputs": [],
   "source": [
    "combinations = list(itertools.product(eyecolors, haircolors, skintones, skintypes))"
   ]
  },
  {
   "cell_type": "code",
   "execution_count": 21,
   "metadata": {},
   "outputs": [],
   "source": [
    "tot = len(combinations)"
   ]
  },
  {
   "cell_type": "code",
   "execution_count": 25,
   "metadata": {},
   "outputs": [
    {
     "data": {
      "text/plain": [
       "2100"
      ]
     },
     "execution_count": 25,
     "metadata": {},
     "output_type": "execute_result"
    }
   ],
   "source": [
    "tot"
   ]
  },
  {
   "cell_type": "code",
   "execution_count": 26,
   "metadata": {},
   "outputs": [
    {
     "name": "stdout",
     "output_type": "stream",
     "text": [
      "0.021463357493990944\n"
     ]
    }
   ],
   "source": [
    "t0 = time.time()\n",
    "for comb in combinations:\n",
    "    eyeColor, hairColor, skinTone, skinType = comb\n",
    "    query = generate_query(eyeColor=eyeColor, hairColor=hairColor, skinTone=skinTone, skinType=skinType)\n",
    "    result = search.search(query)    \n",
    "\n",
    "print((time.time() - t0)/tot)"
   ]
  },
  {
   "cell_type": "code",
   "execution_count": null,
   "metadata": {},
   "outputs": [],
   "source": []
  }
 ],
 "metadata": {
  "kernelspec": {
   "display_name": "Python 3",
   "language": "python",
   "name": "python3"
  },
  "language_info": {
   "codemirror_mode": {
    "name": "ipython",
    "version": 3
   },
   "file_extension": ".py",
   "mimetype": "text/x-python",
   "name": "python",
   "nbconvert_exporter": "python",
   "pygments_lexer": "ipython3",
   "version": "3.6.7"
  }
 },
 "nbformat": 4,
 "nbformat_minor": 2
}
