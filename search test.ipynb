{
 "cells": [
  {
   "cell_type": "code",
   "execution_count": 1,
   "metadata": {},
   "outputs": [],
   "source": [
    "import search"
   ]
  },
  {
   "cell_type": "code",
   "execution_count": 2,
   "metadata": {},
   "outputs": [],
   "source": [
    "import random"
   ]
  },
  {
   "cell_type": "code",
   "execution_count": 3,
   "metadata": {},
   "outputs": [],
   "source": [
    "import numpy as np"
   ]
  },
  {
   "cell_type": "code",
   "execution_count": 4,
   "metadata": {},
   "outputs": [],
   "source": [
    "eyecolors = ['nan', 'brown', 'gray', 'green', 'blue', 'hazel']\n",
    "haircolors = ['nan', 'blonde', 'gray', 'red', 'brunette', 'black', 'auburn']\n",
    "skintones = ['nan', 'light', 'tan', 'porcelain', 'deep', 'fair', 'dark', 'medium', 'ebony', 'olive']\n",
    "skintypes = ['nan', 'normal', 'dry', 'oily', 'combination']\n",
    "\n",
    "# eyecolors = ['brown', 'gray', 'green', 'blue', 'hazel']\n",
    "# haircolors = ['blonde', 'gray', 'red', 'brunette', 'black', 'auburn']\n",
    "# skintones = ['light', 'tan', 'porcelain', 'deep', 'fair', 'dark', 'medium', 'ebony', 'olive']\n",
    "# skintypes = ['normal', 'dry', 'oily', 'combination']\n"
   ]
  },
  {
   "cell_type": "code",
   "execution_count": 5,
   "metadata": {},
   "outputs": [
    {
     "data": {
      "text/plain": [
       "202"
      ]
     },
     "execution_count": 5,
     "metadata": {},
     "output_type": "execute_result"
    }
   ],
   "source": [
    "random.randint(a=0, b=255)"
   ]
  },
  {
   "cell_type": "code",
   "execution_count": 14,
   "metadata": {},
   "outputs": [],
   "source": [
    "def generate_query(skinTone=None, skinType=None, hairColor=None, eyeColor=None):\n",
    "    query = {\n",
    "        \"keywords\" : [ \"kw1\", \"kw2\"],\n",
    "        \"brands\" : [ \"b1\", \"b2\"],\n",
    "        \"skinTone\" : skinTone if skinTone is not None else random.choice(skintones),\n",
    "        \"skinType\" : skinType if skinType is not None else random.choice(skintypes),\n",
    "        \"hairColor\" : hairColor if hairColor is not None else random.choice(haircolors),\n",
    "        \"eyeColor\" : eyeColor if eyeColor is not None else random.choice(eyecolors),\n",
    "        \"r\" : str(random.randint(a=120, b=255)),\n",
    "        \"g\" : str(random.randint(a=0, b=255)),\n",
    "        \"b\" : str(random.randint(a=0, b=255)),\n",
    "        \"ingredient_kws\" : [ \"kw1\", \"kw2\", ...],\n",
    "    }\n",
    "    \n",
    "    return query"
   ]
  },
  {
   "cell_type": "code",
   "execution_count": 15,
   "metadata": {},
   "outputs": [],
   "source": [
    "# result = search.search(query)"
   ]
  },
  {
   "cell_type": "code",
   "execution_count": 16,
   "metadata": {},
   "outputs": [],
   "source": [
    "def one_time():\n",
    "    query = generate_query()\n",
    "    result = search.search(query)\n",
    "    return result"
   ]
  },
  {
   "cell_type": "code",
   "execution_count": 17,
   "metadata": {},
   "outputs": [],
   "source": [
    "import time"
   ]
  },
  {
   "cell_type": "code",
   "execution_count": 10,
   "metadata": {},
   "outputs": [
    {
     "name": "stdout",
     "output_type": "stream",
     "text": [
      "0.0224708890914917\n"
     ]
    }
   ],
   "source": [
    "REP = 100\n",
    "t0 = time.time()\n",
    "for i in range(REP):\n",
    "    one_time()\n",
    "print((time.time() - t0)/REP)"
   ]
  },
  {
   "cell_type": "markdown",
   "metadata": {},
   "source": [
    "---"
   ]
  },
  {
   "cell_type": "markdown",
   "metadata": {},
   "source": [
    "cartesian product"
   ]
  },
  {
   "cell_type": "code",
   "execution_count": 18,
   "metadata": {},
   "outputs": [],
   "source": [
    "import itertools"
   ]
  },
  {
   "cell_type": "code",
   "execution_count": 20,
   "metadata": {},
   "outputs": [],
   "source": [
    "combinations = list(itertools.product(eyecolors, haircolors, skintones, skintypes))"
   ]
  },
  {
   "cell_type": "code",
   "execution_count": 21,
   "metadata": {},
   "outputs": [],
   "source": [
    "tot = len(combinations)"
   ]
  },
  {
   "cell_type": "code",
   "execution_count": 25,
   "metadata": {},
   "outputs": [
    {
     "data": {
      "text/plain": [
       "2100"
      ]
     },
     "execution_count": 25,
     "metadata": {},
     "output_type": "execute_result"
    }
   ],
   "source": [
    "tot"
   ]
  },
  {
   "cell_type": "code",
   "execution_count": 26,
   "metadata": {},
   "outputs": [
    {
     "name": "stdout",
     "output_type": "stream",
     "text": [
      "0.021463357493990944\n"
     ]
    }
   ],
   "source": [
    "t0 = time.time()\n",
    "for comb in combinations:\n",
    "    eyeColor, hairColor, skinTone, skinType = comb\n",
    "    query = generate_query(eyeColor=eyeColor, hairColor=hairColor, skinTone=skinTone, skinType=skinType)\n",
    "    result = search.search(query)    \n",
    "\n",
    "print((time.time() - t0)/tot)"
   ]
  },
  {
   "cell_type": "code",
   "execution_count": null,
   "metadata": {},
   "outputs": [],
   "source": []
  }
 ],
 "metadata": {
  "kernelspec": {
   "display_name": "Python 3",
   "language": "python",
   "name": "python3"
  },
  "language_info": {
   "codemirror_mode": {
    "name": "ipython",
    "version": 3
   },
   "file_extension": ".py",
   "mimetype": "text/x-python",
   "name": "python",
   "nbconvert_exporter": "python",
   "pygments_lexer": "ipython3",
   "version": "3.6.7"
  }
 },
 "nbformat": 4,
 "nbformat_minor": 2
}
